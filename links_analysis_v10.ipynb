{
 "cells": [
  {
   "cell_type": "markdown",
   "metadata": {},
   "source": [
    "# Links Analysis"
   ]
  },
  {
   "cell_type": "markdown",
   "metadata": {},
   "source": [
    "### Import"
   ]
  },
  {
   "cell_type": "code",
   "execution_count": null,
   "metadata": {},
   "outputs": [],
   "source": [
    "from networkx import hits\n",
    "import numpy as np\n",
    "import networkx as nx"
   ]
  },
  {
   "cell_type": "markdown",
   "metadata": {},
   "source": [
    "### Fonctions"
   ]
  },
  {
   "cell_type": "markdown",
   "metadata": {},
   "source": [
    "Matrice d'adjacence"
   ]
  },
  {
   "cell_type": "code",
   "execution_count": 69,
   "metadata": {},
   "outputs": [],
   "source": [
    "def create_numpy_adjacency_matrix(gml_file):\n",
    "    graph = nx.read_gml(gml_file)\n",
    "    adjacency_matrix = nx.to_numpy_array(graph)\n",
    "    return adjacency_matrix, list(graph.nodes())"
   ]
  },
  {
   "cell_type": "markdown",
   "metadata": {},
   "source": [
    "Voisins communs"
   ]
  },
  {
   "cell_type": "code",
   "execution_count": 70,
   "metadata": {},
   "outputs": [],
   "source": [
    "def voisins_communs(matrix):\n",
    "    # Initialiser une matrice pour stocker les voisins communs\n",
    "    voisins = np.zeros(matrix.shape)\n",
    "    for i in range(len(matrix)):\n",
    "        for j in range(len(matrix)):\n",
    "            voisins[i, j] = np.sum(np.multiply(matrix[i, :], matrix[j, :]))\n",
    "    return voisins"
   ]
  },
  {
   "cell_type": "markdown",
   "metadata": {},
   "source": [
    "Matrice d'attachement préférentiel"
   ]
  },
  {
   "cell_type": "code",
   "execution_count": 71,
   "metadata": {},
   "outputs": [],
   "source": [
    "def preferential_attachment(matrix):\n",
    "    degrees = np.sum(matrix, axis=1)\n",
    "    pref_attach = np.zeros(matrix.shape) \n",
    "    # Parcourir les paires de nœuds\n",
    "    for i in range(len(matrix)):\n",
    "        for j in range(len(matrix)):\n",
    "            # L'attachement préférentiel entre deux nœuds est le produit de leurs degrés\n",
    "            pref_attach[i, j] = degrees[i] * degrees[j]\n",
    "    return pref_attach "
   ]
  },
  {
   "cell_type": "markdown",
   "metadata": {},
   "source": [
    "Matrice de similarité par cosinus"
   ]
  },
  {
   "cell_type": "code",
   "execution_count": 72,
   "metadata": {},
   "outputs": [],
   "source": [
    "def cosine_similarity(matrix):\n",
    "    cosine_sim = np.zeros(matrix.shape)\n",
    "    # Parcourir les paires de nœuds\n",
    "    for i in range(len(matrix)):\n",
    "        for j in range(len(matrix)):\n",
    "            # Calculer le produit scalaire des deux vecteurs correspondant aux nœuds i et j\n",
    "            dot_product = np.dot(matrix[i, :], matrix[j, :])\n",
    "            # Calculer les normes des vecteurs pour normalisation\n",
    "            norm_i = np.linalg.norm(matrix[i, :])\n",
    "            norm_j = np.linalg.norm(matrix[j, :])         \n",
    "            # Calculer la similarité cosinus (éviter les divisions par zéro)\n",
    "            if norm_i > 0 and norm_j > 0:\n",
    "                cosine_sim[i, j] = dot_product / (norm_i * norm_j)\n",
    "            else:\n",
    "                cosine_sim[i, j] = 0  # Si un vecteur a une norme nulle, la similarité est 0\n",
    "    return cosine_sim"
   ]
  },
  {
   "cell_type": "markdown",
   "metadata": {},
   "source": [
    "Matrice de similarité par Jaccard"
   ]
  },
  {
   "cell_type": "code",
   "execution_count": 73,
   "metadata": {},
   "outputs": [],
   "source": [
    "def jaccard_similarity(matrix):\n",
    "    n = matrix.shape[0]  # Nombre de nœuds\n",
    "    degrees = np.sum(matrix, axis=1)  # Degré de chaque nœud\n",
    "    sim_common = np.dot(matrix, matrix.T)  # Nombre de voisins communs entre chaque paire de nœuds\n",
    "    sim_jac = np.zeros((n, n))  \n",
    "    # Parcourir chaque paire de nœuds\n",
    "    for i in range(n):\n",
    "        for k in range(n):\n",
    "            # Calculer la mesure de Jaccard (éviter la division par zéro)\n",
    "            denominator = degrees[i] + degrees[k] - sim_common[i, k]\n",
    "            if denominator > 0:\n",
    "                sim_jac[i, k] = sim_common[i, k] / denominator\n",
    "            else:\n",
    "                sim_jac[i, k] = 0   \n",
    "    return sim_jac"
   ]
  },
  {
   "cell_type": "markdown",
   "metadata": {},
   "source": [
    "Matrice de similarité par Dice"
   ]
  },
  {
   "cell_type": "code",
   "execution_count": 74,
   "metadata": {},
   "outputs": [],
   "source": [
    "def dice_similarity(matrix):\n",
    "    n = matrix.shape[0]  # Nombre de nœuds\n",
    "    degrees = np.sum(matrix, axis=1)  # Degré de chaque nœud\n",
    "    sim_common = np.dot(matrix, matrix.T)  # Nombre de voisins communs entre chaque paire de nœuds\n",
    "    sim_dice = np.zeros((n, n))\n",
    "    \n",
    "    # Parcourir chaque paire de nœuds\n",
    "    for i in range(n):\n",
    "        for k in range(n):\n",
    "            # Calculer la mesure de Dice (éviter la division par zéro)\n",
    "            denominator = degrees[i] + degrees[k]\n",
    "            if denominator > 0:\n",
    "                sim_dice[i, k] = 2 * sim_common[i, k] / denominator\n",
    "            else:\n",
    "                sim_dice[i, k] = 0  \n",
    "    return sim_dice"
   ]
  },
  {
   "cell_type": "markdown",
   "metadata": {},
   "source": [
    "Matrice de Katz"
   ]
  },
  {
   "cell_type": "code",
   "execution_count": 86,
   "metadata": {},
   "outputs": [],
   "source": [
    "def Katz(graph, alpha):\n",
    "    #Calculer la matrice de Katz\n",
    "    A = graph\n",
    "    n = A.shape[0] # nombre de noeuds\n",
    "    I = np.identity(n) # matrice identité\n",
    "    Katz = np.linalg.inv(I - alpha*A) - I # matrice de Katz, on calcule d'abord l'inverse de I - alpha*A puis on soustrait I\n",
    "    print(f\"Ceci est la matrice de Katz :\\n {Katz}\\n\")\n",
    "    return Katz"
   ]
  },
  {
   "cell_type": "markdown",
   "metadata": {},
   "source": [
    "Probabilité de transition"
   ]
  },
  {
   "cell_type": "code",
   "execution_count": 76,
   "metadata": {},
   "outputs": [],
   "source": [
    "def transition_proba(graph):\n",
    "    A = graph\n",
    "    n = A.shape[0] # nombre de noeuds\n",
    "    degrees = [sum(A[i]) for i in range(n)] # degré de chaque noeud\n",
    "    transition_graph = np.zeros((n,n))\n",
    "    \"\"\"\n",
    "    au début je n'avais pas mis (transition_graph) mais c'est nécessaire sinon on modifie la matrice A pendant\n",
    "    le calcul et on obtient un matrice null\n",
    "    \"\"\"\n",
    "\n",
    "    #Calculer la matrice de transition\n",
    "    for i in range(len(A)):\n",
    "        for k in range(len(A)):\n",
    "            transition_graph[i,k] = A[i,k]/degrees[i]\n",
    "    return transition_graph"
   ]
  },
  {
   "cell_type": "markdown",
   "metadata": {},
   "source": [
    "Matrice FPT et CT"
   ]
  },
  {
   "cell_type": "code",
   "execution_count": 92,
   "metadata": {},
   "outputs": [],
   "source": [
    "def matrice_FPT_et_CT(graph):\n",
    "\t# Calculer la pseudo-inverse de la matrice Laplacienne\n",
    "\tA = graph\n",
    "\tn = A.shape[0]  # nombre de noeuds\n",
    "\tdegrees = [sum(A[i]) for i in range(n)]  # degré de chaque noeud\n",
    "\tD = np.diag(degrees)  # matrice diagonale des degrés\n",
    "\tL = D - A  # matrice Laplacienne\n",
    "\teeT = np.ones((n, n))  # matrice de 1\n",
    "\tLplus = np.linalg.inv((L - eeT / n)) + (eeT / n)\n",
    "\n",
    "\t# Calculer la matrice de FPT\n",
    "\tFPT = np.zeros((n, n))\n",
    "\tfor i in range(len(A)):\n",
    "\t\tfor k in range(len(A)):\n",
    "\t\t\tif i != k:\n",
    "\t\t\t\tsum_term = 0\n",
    "\t\t\t\tfor j in range(len(A)):\n",
    "\t\t\t\t\tsum_term += (Lplus[i, j] - Lplus[i, k] - Lplus[k, j] + Lplus[k, k]) * D[j, j]\n",
    "\t\t\t\tFPT[k, i] = sum_term\n",
    "\tFPT_transpose = np.transpose(FPT)\n",
    "\n",
    "\tCT = FPT_transpose + FPT\n",
    "\n",
    "\treturn FPT_transpose, CT"
   ]
  },
  {
   "cell_type": "markdown",
   "metadata": {},
   "source": [
    "Score Hub"
   ]
  },
  {
   "cell_type": "code",
   "execution_count": 102,
   "metadata": {},
   "outputs": [],
   "source": [
    "def scores_Hub_Authority(graph):\n",
    "    # Calculer les scores HITS\n",
    "    hub_scores, authority_scores = nx.hits(graph)\n",
    "    \n",
    "    # Afficher les résultats\n",
    "    print(f\"Ceci est le score de Hub :\\n {hub_scores}\\n\")\n",
    "    return hub_scores, authority_scores"
   ]
  },
  {
   "cell_type": "markdown",
   "metadata": {},
   "source": [
    "### Applications"
   ]
  },
  {
   "cell_type": "code",
   "execution_count": 97,
   "metadata": {},
   "outputs": [],
   "source": [
    "# Chemin vers le fichier GML\n",
    "gml_file = 'graph.gml'\n",
    "# Créer la matrice d'adjacence\n",
    "adjacency_matrix, nodes = create_numpy_adjacency_matrix(gml_file)\n",
    "\n",
    "# Enregistrer la matrice d'adjacence dans un fichier\n",
    "np.savetxt('outputmatrix/adjacency_matrix.txt', adjacency_matrix)"
   ]
  },
  {
   "cell_type": "code",
   "execution_count": null,
   "metadata": {},
   "outputs": [],
   "source": [
    "cosine_sim = cosine_similarity(adjacency_matrix)\n",
    "print(cosine_sim)\n",
    "\n",
    "# Enregistrer la matrice de similarité cosinus dans un fichier\n",
    "np.savetxt('outputmatrix/cosine_similarity_matrix.txt', cosine_sim)"
   ]
  },
  {
   "cell_type": "code",
   "execution_count": null,
   "metadata": {},
   "outputs": [],
   "source": [
    "dice_sim = dice_similarity(adjacency_matrix)\n",
    "print(dice_sim)\n",
    "\n",
    "# Enregistrer la matrice de similarité Dice dans un fichier\n",
    "np.savetxt('outputmatrix/dice_similarity_matrix.txt', dice_sim)"
   ]
  },
  {
   "cell_type": "code",
   "execution_count": null,
   "metadata": {},
   "outputs": [],
   "source": [
    "jaccard_sim = jaccard_similarity(adjacency_matrix)\n",
    "print(jaccard_sim)\n",
    "\n",
    "# Enregistrer la matrice de similarité Jaccard dans un fichier\n",
    "np.savetxt('outputmatrix/jaccard_similarity_matrix.txt', jaccard_sim)"
   ]
  },
  {
   "cell_type": "code",
   "execution_count": null,
   "metadata": {},
   "outputs": [],
   "source": [
    "# Déterminer la valeur de alpha\n",
    "alpha = 0.1\n",
    "\n",
    "# Calculer la matrice de Katz\n",
    "katz_matrix = Katz(adjacency_matrix, alpha)\n",
    "\n",
    "# Enregistrer la matrice de Katz dans un fichier\n",
    "np.savetxt('outputmatrix/katz_matrix.txt', katz_matrix)"
   ]
  },
  {
   "cell_type": "code",
   "execution_count": null,
   "metadata": {},
   "outputs": [],
   "source": [
    "pref_attach = preferential_attachment(adjacency_matrix)\n",
    "print(pref_attach)\n",
    "\n",
    "# Enregistrer la matrice d'attachement préférentiel dans un fichier\n",
    "np.savetxt('outputmatrix/preferential_attachment_matrix.txt', pref_attach)"
   ]
  },
  {
   "cell_type": "code",
   "execution_count": null,
   "metadata": {},
   "outputs": [],
   "source": [
    "transition_graph = transition_proba(adjacency_matrix)\n",
    "print(transition_graph)\n",
    "\n",
    "# Enregistrer la matrice de probabilité de transition dans un fichier\n",
    "np.savetxt('outputmatrix/transition_probability_matrix.txt', transition_graph)"
   ]
  },
  {
   "cell_type": "code",
   "execution_count": 93,
   "metadata": {},
   "outputs": [],
   "source": [
    "# Calculer et enregistrer les matrices FPT et CT\n",
    "FPT, CT = matrice_FPT_et_CT(transition_graph)\n",
    "np.savetxt('outputmatrix/FPT_matrix.txt', FPT)\n",
    "np.savetxt('outputmatrix/CT_matrix.txt', CT)"
   ]
  },
  {
   "cell_type": "code",
   "execution_count": 103,
   "metadata": {},
   "outputs": [
    {
     "name": "stdout",
     "output_type": "stream",
     "text": [
      "Ceci est le score de Hub :\n",
      " {'Electronic performance support systems': -0.0, 'Organizational studies': 0.0012101981676797048, 'Politics': 9.557322575960911e-05, 'Plurisexuality': -0.0, 'Strikebreaking': -0.0, 'Career counseling': 0.0013123568275315437, 'Uncertainty avoidance': -0.0, 'Positive psychology in the workplace': 0.016201880668801905, 'Sunday scaries': 0.020389105392079096, 'Anti-bias curriculum': 1.7982220665331976e-05, 'Seniority': -0.0, 'Community psychology': -0.0, 'Teamwork': -0.0, 'Emotional health': -0.0, 'Merger and acquisition': -0.0, 'Field agent': -0.0, 'Intercultural': -0.0, 'Intercultural communication principles': -0.0, 'Profession': 0.0015775728650193155, 'Economy': 0.0006801249626257825, 'Adult education': -0.0, 'Cultural intelligence': 0.001099537332341735, 'Psychosocial hazard': 0.007295624807906069, 'Job Demands-Resources model': -0.0, 'Cultural diversity': 0.005075809633477034, 'Criticism of copyright': 0.0001771355608521399, 'Employee assistance program': 0.00151564222909167, 'Sexism in the technology industry': -0.0, 'Participatory GIS': -0.0, 'Disability in the arts': -0.0, 'Discouraged worker': 0.03762222710438865, 'Dominance hierarchy': -0.0, 'Employee performance management': -0.0, 'Publicity': -0.0, 'First date': -0.0, 'Management style': 0.0011219381975216575, 'Program management': -0.0, 'Work experience': -0.0, 'Sexism': 0.0031999649985620477, 'Realistic job preview': 0.02900879179006628, 'Corporate crime': 0.002896041527149702, 'Prosocial behavior': -0.0, 'Tokenism': -0.0, 'Pluralism (political theory)': -0.0, 'Job shadow': -0.0, 'List of management topics': -0.0, 'Disability Pride Parades': -0.0, 'Diversity ideologies': 8.470372308086873e-21, 'Labor spies': -0.0, 'Schedule (workplace)': 0.025779534339148893, 'Equal Opportunities International': -0.0, 'Cross-cultural negotiation': -0.0, 'Interim management': -0.0, 'Manpower': 0.0020987958714981437, 'Line management': -0.0, 'Population health policies and interventions': -0.0, 'Cooperative': 0.012276994346299449, 'Commercial determinants of health': 0.0008520418196874438, 'Dominant culture': 0.0011282016377330956, 'Employee scheduling software': -0.0, 'Busy work': 0.00151564222909167, 'Industrial democracy': 1.4436352330191395e-05, 'Day shifts': -0.0, 'Magical organization': -0.0, 'Power distance': 0.0038187307171806996, 'Michael Porter': -0.0, 'Sexist joke': -0.0, 'Diversity training': 0.00493253287868635, 'Industrial sociology': -0.0, 'Career development': 0.0007909723943334023, 'Racial justice': 7.204004851612671e-05, 'Milieu': -0.0, 'Job satisfaction': 0.03797005238104693, 'Economic': -0.0, 'Companionship': -0.0, 'Loud quitting': -0.0, 'Managers': 0.0017716692700577375, 'Hysterical contagion': -0.0, 'Professional association': 0.003161604990253412, 'Cross cultural sensitivity': 0.0012179012571199223, 'Manfred F.R. Kets de Vries': 0.00011339139935829701, 'Managerial': 0.002593291913800657, 'Eco-tourism': -0.0, 'Market governance mechanism': -0.0, 'Bullying in information technology': 0.0055807280024656935, 'Employment equity': -0.0, 'Sociocultural context': -0.0, 'Internship': 0.035250236763715644, 'Employee value proposition': -0.0, 'Economics of participation': -0.0, 'Social privilege': 0.0005730840698228464, 'Industrial Sociology': -0.0, 'Workplace politics': 0.02463311122075083, 'Labour Union': 0.000796174430935316, 'Corporate advisory': -0.0, 'Employee retention': 4.545316903323527e-05, 'Privilege hazard': -0.0, 'Public participation': -4.920683849835239e-19, 'Manager': -0.0, 'Breitbart News': -0.0, 'Human Resources Development': -0.0, 'Privilege (social inequality)': -0.0, 'Hofstede': -0.0, 'Population health': 0.0002184700865907981, 'Project stakeholder': -0.0, 'Employee assistance programs': 0.00151564222909167, 'Organizational theory': 0.0006255687075555674, 'Medical racism': -0.0, 'Institutional racism': -0.0, 'Pluralistic ignorance': -0.0, 'Precarious work': 0.0038356186063245516, 'Council for Canadians with Disabilities': -0.0, 'Intercultural communication': 0.0006748509123448785, 'Employee recognition': 0.02357369360105629, 'Public participation geographic information system': -0.0, 'Business relations': -0.0, 'Persuasion': -0.0, 'Career guide': -0.0, 'Interpersonal relations': -0.0, 'Social work': -0.0, 'American conservative': -0.0, 'Participatory modeling': -0.0, 'Labor union': 0.0016131208366452318, 'Second shift': -0.0, 'Staff management': -0.0, 'Jobless employed': -0.0, 'Performance management': 0.005780311849611302, 'Job': 0.005390500499571703, 'Public toilet': -0.0, 'Mental health': 0.0013300998542052646, 'Psychologist': -0.0, 'Training and development': 0.0010541240307856228, 'Sole proprietorship': -0.0, 'Reputation': -0.0, 'Stigma management': 0.0021194676443684673, 'Feminism in Latin America': -0.0, 'Layoff': 0.0331048521230697, 'Organization studies': 0.004438272374246434, 'Team leader': -0.0, 'Supervisor': 0.01841529469902374, 'Brand engagement': -0.0, 'Cultural retention': 0.0009655325656245178, 'Core self-evaluations': -0.0, 'International business': 0.001706503670899974, 'Psychological intervention': -0.0, 'Organizational culture': 0.02158760045180678, 'Sociotechnical system': -0.0, 'Organization theory': 0.00019424460174506338, 'Work (human activity)': 0.005390500499571703, 'Job analysis': -0.0, 'Cross-cultural capital': 0.001583540759263583, 'Meta-organization': -0.0, 'Sexual harassment': 0.026733562997151555, 'Productivity theater': -0.0, 'Legal culture': 0.0004295141105723813, 'Job Shadow': -0.0, 'Personal network': -2.6300515665818257e-20, 'Mores': -0.0, 'White privilege': 0.00016350772941078258, 'Interpersonal relationship': 0.0014158432771424433, 'Business economics': -0.0, 'Layoffs': -0.0, 'Learning organization': -0.0, 'Generations in the workforce': -0.0, 'Employment counsellor': 0.0006655207034774553, 'E-democracy': -0.0, 'Employee satisfaction': 0.0013192209051705356, 'Interpersonal communication': -0.0, 'Economic theory': -0.0, 'Economics': 0.0001291617664642675, 'Company culture': -0.0, 'Diversity, equity and inclusion': -0.0, 'History of mental healthcare': -0.0, 'Relational mobility': 0.00021916493637255872, 'Management': 0.006991006123343829, 'Community unionism': 0.0005234746797675745, 'Outline of business management': -0.0, 'Social context': 3.022254359845564e-05, 'Self-help': -0.0, 'Geert Hofstede': 0.00011406088649878122, 'Censorship in Cuba': -0.0, 'Ticket to Work': -0.0, 'Management by wandering around': -0.0, 'Allyship': 0.0014456111314185257, 'Youth unemployment': 0.010220031685039703, 'Work design': -0.0, 'Cross-cultural leadership': 0.0008940721547657021, 'Job crafting': -0.0, 'Commercial management': 0.00347369688468321, 'Virtual management': -0.0, 'Public relations': -0.0, 'Resenteeism': -0.0, 'Universal access to education': -0.0, 'Business culture': 0.0014022997272507879, 'Lobbying': -0.0, 'Probation (workplace)': 0.03722583607791224, 'Anti-sexism': -0.0, 'Economic imperialism (economics)': -0.0, 'Workplace harassment': 0.05069962478591057, 'Inclusion (disability rights)': 0.0002110759771353078, 'Cellular organizational structure': 0.00370535070655267, 'Leadership style': -0.0, 'Organizational ethics': 0.0020334871472198167, 'Ethnicity and health': -0.0, 'Labor spying in the United States': 0.0003030869437697692, 'Diversity, equity, and inclusion': 0.0014859397170067935, 'Censorship': 0.00020715013422736533, 'Social environment': -0.0, 'Occupational hygiene': 0.0007047325830541362, 'Social movements': -0.0, 'Redundancy payments': -0.0, 'Socioeconomics': -0.0, \"Cog's Ladder\": -0.0, 'Interning': -0.0, 'Volkswagen worker organizations': -0.0, 'Pluralist democracy': -0.0, 'Occupational apartheid': -0.0, 'Labour (human activity)': 0.0003359445236972441, 'Mergers and acquisitions': 9.969658474702416e-21, 'Matrix of domination': -0.0, 'Human resources': 0.011217556870736427, 'Individualistic culture': 0.000817240467057639, 'Political': -0.0, 'Quality circle': -0.0, 'Learning environment': -0.0, 'Cultural agility': 0.00012690730000667878, 'Autistic Self Advocacy Network': -0.0, 'Cultural unitarism': -0.0, 'Positive organizational behavior': -0.0, 'Social entrepreneurship': -0.0, 'DEI': 5.306084727842817e-05, 'Knowledge organization': -0.0, 'Personnel Administration': 0.003532782861020017, 'Redneck Revolt': -0.0, 'Human Resource Management': -0.0, 'Disability rights movement': 0.004583102613295181, 'Common ingroup identity': -0.0, 'Taste-based discrimination': 0.0003924501450676405, 'Strikebreaker': 0.0034465735013267844, 'Proxy fight': -0.0, 'Media pluralism': -0.0, 'Labour unions': -0.0, 'Emiratisation': -0.0, 'Public toilets': -0.0, 'Process safety management': -0.0, 'Oppression': 0.003963688494291743, 'Caste system in India': -0.0, 'Employee performance': 0.0014511862358358048, 'Interpersonal': -0.0, '21st century skills': -0.0, 'Diversity (business)': 0.029584389751277817, 'Corporate culture': -0.0, 'Natural capital': -0.0, 'Employee silence': 0.021189179583744427, 'Cross-cultural': 0.001729517837989254, 'Occupational health nursing': 0.0008147519019815907, 'Internships': -0.0, 'Outline of organizational theory': 0.00021014777548753646, 'Knowledge sharing': -0.0, 'Doctor of Management': -0.0, 'Management due diligence': -0.0, 'Problem': -0.0, 'Magic (supernatural)': -0.0, 'Human resources management': -0.0, 'Presenteeism': 0.00010016236308186578, 'Co-op': -0.0, 'Safety culture': 0.0019939826765120535, 'Social psychology (sociology)': -0.0, 'Religious affiliation': -0.0, 'Human relations movement': -0.0, 'American Management Association': 0.0004504620189911453, 'Members-only unionism': 0.003646000071378966, 'Self-report inventory': -0.0, 'Interpersonal relationships': 0.0015629763507587265, 'Collective bargaining': 0.0008492929890547154, 'Shift work': 0.02431433099796923, 'Fail fast (business)': 0.00010938847337740045, 'Women in cooperatives': -0.0, 'Working nights': -0.0, 'Conservatism in the United States': -4.457894272506501e-19, 'Diversity education': 1.9237560957174533e-05, 'Women in Vietnam': -0.0, 'Direct support professional': -0.0, 'Corporate acquisition': -0.0, 'Alternative media': -0.0, 'Health education': 0.0007224129795599392, 'Human work': 0.00029275534120989265, 'Neurodiversity and labor rights': -0.0, 'Economic oppression': -0.0, 'Works council': -0.0, 'Operational performance management': -0.0, 'Gender inequality': -0.0, 'Opposition to trade unions': -0.0, 'Acquaintance': -0.0, 'Trade unions': -0.0, 'Human relations': -0.0, 'Human resource policies': -0.0, 'Union busting': 0.00345260557303395, 'Collective Bargaining': -0.0, 'Opposition to copyright': -0.0, 'Organizational diagnostics': 0.002212952521525573, 'Group insurance': -0.0, 'Labour productivity': -0.0, 'Workplace bullying': 0.03340965857833532, 'Management science': -0.0, 'Affirmative action': 0.04384889016235891, 'Organizational performance': 0.0023936012947384914, 'Rite of passage': -3.5501165255476413e-19, 'Disability rights': -0.0, 'Industrial action': 0.0008326443840964158, 'Positive psychology': 0.0001990910760553931, 'Activism': -0.0, 'Organizational conflict': 0.029351871869281246, 'Anti-racism': 0.004375114398062883, 'Employee engagement': 0.028055072131740202, 'Gender discrimination': -0.0, 'Participative management': -0.0, 'Conspiracy of silence (expression)': -0.0, 'Cross-cultural communication': 0.0005345071235264619, 'Negotiation': -0.0, 'Hybrid organization': -0.0, 'Equity theory': -0.0, 'Social responsibility': -0.0, 'Organizational effectiveness': 0.0037977172136340726, 'Change management': 0.003622339559971971, 'Age segregation': 0.004595999755485142, 'Workplace conflict': 0.033623490972255456, 'Systemic racism': -0.0, 'Organizational Justice': -0.0, 'Organizational justice': 0.0014730985765623113, 'White Privilege': -0.0, 'On-call': 0.03155161428731394, 'Corporate Equality Index': -0.0, 'Stressor': -0.0, 'Activity-based working': -0.0, 'Disability advocate': -0.0, 'Social construction of gender': -0.0, 'Matrix management': -0.0, 'List of strikes': 0.00018942081938413168, 'Go woke, go broke': -0.0, 'Emotions in the workplace': 0.029073685938677155, 'Oppressed': -0.0, 'Just culture': 0.0016847740646806814, 'Trade union': 0.005504121929786228, 'Emigration': -0.0, 'UNESCO Universal Declaration on Cultural Diversity': -2.946361953224318e-19, 'Cultural schema theory': -0.0, 'Sex discrimination': -0.0, 'LinkedIn': -0.0, 'Neurodiversity Celebration Week': -0.0, 'Overweight': -0.0, 'Job (role)': -0.0, 'Information society': -0.0, 'Religious identity': -0.0, 'Diversity, Equity, and Inclusion': 0.0014859397170067935, 'Asset (intelligence)': -0.0, 'Coffee badging': -0.0, 'Communication and leadership during change': -0.0, 'Framing (social sciences)': -0.0, 'Participatory management': -0.0, \"Women's empowerment\": -0.0, 'Workplace health promotion': 0.023310543286253208, 'Organization workshop': 8.175838147461494e-20, 'Information management': -0.0, 'Socio-economic': -0.0, 'Business transformation': -0.0, 'Managing change': -0.0, 'Self-enhancement': -0.0, 'Cultural sensitivity': -0.0, 'Caucus': -0.0, 'Social movement': -0.0, 'Universal Declaration on Cultural Diversity': -2.946361953224318e-19, 'Human resource management': 0.005144525027164612, 'Activities of daily living': -0.0, 'Management by walking around': -0.0, 'Problem solving': 0.00023598974152480324, 'Strategic thinking': -0.0, 'Management theory': 0.00127700339260125, 'Race and health': 0.00010987785153981272, 'National Safety Council': -0.0, 'Cross-cultural competence': -0.0, 'Sanitation worker': 0.0017961702877530513}\n",
      "\n"
     ]
    }
   ],
   "source": [
    "# Calculer les scores de Hub et Authority\n",
    "\n",
    "graph = nx.read_gml('graph.gml')\n",
    "\n",
    "# Calcul des scores\n",
    "hub_scores, authority_scores = scores_Hub_Authority(graph)\n",
    "\n",
    "# Enregistrement des scores\n",
    "np.savetxt('outputmatrix/hub_scores.txt', list(hub_scores.values()))"
   ]
  }
 ],
 "metadata": {
  "kernelspec": {
   "display_name": ".venv",
   "language": "python",
   "name": "python3"
  },
  "language_info": {
   "codemirror_mode": {
    "name": "ipython",
    "version": 3
   },
   "file_extension": ".py",
   "mimetype": "text/x-python",
   "name": "python",
   "nbconvert_exporter": "python",
   "pygments_lexer": "ipython3",
   "version": "3.11.2"
  }
 },
 "nbformat": 4,
 "nbformat_minor": 2
}
