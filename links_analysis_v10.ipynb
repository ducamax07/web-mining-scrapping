{
 "cells": [
  {
   "cell_type": "markdown",
   "metadata": {},
   "source": [
    "# Links Analysis"
   ]
  },
  {
   "cell_type": "markdown",
   "metadata": {},
   "source": [
    "### Import"
   ]
  },
  {
   "cell_type": "code",
   "execution_count": null,
   "metadata": {},
   "outputs": [],
   "source": [
    "from networkx import hits\n",
    "import numpy as np\n",
    "import networkx as nx"
   ]
  },
  {
   "cell_type": "markdown",
   "metadata": {},
   "source": [
    "### Fonctions"
   ]
  },
  {
   "cell_type": "markdown",
   "metadata": {},
   "source": [
    "Matrice d'adjacence"
   ]
  },
  {
   "cell_type": "code",
   "execution_count": 69,
   "metadata": {},
   "outputs": [],
   "source": [
    "def create_numpy_adjacency_matrix(gml_file):\n",
    "    graph = nx.read_gml(gml_file)\n",
    "    adjacency_matrix = nx.to_numpy_array(graph)\n",
    "    return adjacency_matrix, list(graph.nodes())"
   ]
  },
  {
   "cell_type": "markdown",
   "metadata": {},
   "source": [
    "Voisins communs"
   ]
  },
  {
   "cell_type": "code",
   "execution_count": 70,
   "metadata": {},
   "outputs": [],
   "source": [
    "def voisins_communs(matrix):\n",
    "    # Initialiser une matrice pour stocker les voisins communs\n",
    "    voisins = np.zeros(matrix.shape)\n",
    "    for i in range(len(matrix)):\n",
    "        for j in range(len(matrix)):\n",
    "            voisins[i, j] = np.sum(np.multiply(matrix[i, :], matrix[j, :]))\n",
    "    return voisins"
   ]
  },
  {
   "cell_type": "markdown",
   "metadata": {},
   "source": [
    "Matrice d'attachement préférentiel"
   ]
  },
  {
   "cell_type": "code",
   "execution_count": 71,
   "metadata": {},
   "outputs": [],
   "source": [
    "def preferential_attachment(matrix):\n",
    "    degrees = np.sum(matrix, axis=1)\n",
    "    pref_attach = np.zeros(matrix.shape) \n",
    "    # Parcourir les paires de nœuds\n",
    "    for i in range(len(matrix)):\n",
    "        for j in range(len(matrix)):\n",
    "            # L'attachement préférentiel entre deux nœuds est le produit de leurs degrés\n",
    "            pref_attach[i, j] = degrees[i] * degrees[j]\n",
    "    return pref_attach "
   ]
  },
  {
   "cell_type": "markdown",
   "metadata": {},
   "source": [
    "Matrice de similarité par cosinus"
   ]
  },
  {
   "cell_type": "code",
   "execution_count": 72,
   "metadata": {},
   "outputs": [],
   "source": [
    "def cosine_similarity(matrix):\n",
    "    cosine_sim = np.zeros(matrix.shape)\n",
    "    # Parcourir les paires de nœuds\n",
    "    for i in range(len(matrix)):\n",
    "        for j in range(len(matrix)):\n",
    "            # Calculer le produit scalaire des deux vecteurs correspondant aux nœuds i et j\n",
    "            dot_product = np.dot(matrix[i, :], matrix[j, :])\n",
    "            # Calculer les normes des vecteurs pour normalisation\n",
    "            norm_i = np.linalg.norm(matrix[i, :])\n",
    "            norm_j = np.linalg.norm(matrix[j, :])         \n",
    "            # Calculer la similarité cosinus (éviter les divisions par zéro)\n",
    "            if norm_i > 0 and norm_j > 0:\n",
    "                cosine_sim[i, j] = dot_product / (norm_i * norm_j)\n",
    "            else:\n",
    "                cosine_sim[i, j] = 0  # Si un vecteur a une norme nulle, la similarité est 0\n",
    "    return cosine_sim"
   ]
  },
  {
   "cell_type": "markdown",
   "metadata": {},
   "source": [
    "Matrice de similarité par Jaccard"
   ]
  },
  {
   "cell_type": "code",
   "execution_count": 73,
   "metadata": {},
   "outputs": [],
   "source": [
    "def jaccard_similarity(matrix):\n",
    "    n = matrix.shape[0]  # Nombre de nœuds\n",
    "    degrees = np.sum(matrix, axis=1)  # Degré de chaque nœud\n",
    "    sim_common = np.dot(matrix, matrix.T)  # Nombre de voisins communs entre chaque paire de nœuds\n",
    "    sim_jac = np.zeros((n, n))  \n",
    "    # Parcourir chaque paire de nœuds\n",
    "    for i in range(n):\n",
    "        for k in range(n):\n",
    "            # Calculer la mesure de Jaccard (éviter la division par zéro)\n",
    "            denominator = degrees[i] + degrees[k] - sim_common[i, k]\n",
    "            if denominator > 0:\n",
    "                sim_jac[i, k] = sim_common[i, k] / denominator\n",
    "            else:\n",
    "                sim_jac[i, k] = 0   \n",
    "    return sim_jac"
   ]
  },
  {
   "cell_type": "markdown",
   "metadata": {},
   "source": [
    "Matrice de similarité par Dice"
   ]
  },
  {
   "cell_type": "code",
   "execution_count": 74,
   "metadata": {},
   "outputs": [],
   "source": [
    "def dice_similarity(matrix):\n",
    "    n = matrix.shape[0]  # Nombre de nœuds\n",
    "    degrees = np.sum(matrix, axis=1)  # Degré de chaque nœud\n",
    "    sim_common = np.dot(matrix, matrix.T)  # Nombre de voisins communs entre chaque paire de nœuds\n",
    "    sim_dice = np.zeros((n, n))\n",
    "    \n",
    "    # Parcourir chaque paire de nœuds\n",
    "    for i in range(n):\n",
    "        for k in range(n):\n",
    "            # Calculer la mesure de Dice (éviter la division par zéro)\n",
    "            denominator = degrees[i] + degrees[k]\n",
    "            if denominator > 0:\n",
    "                sim_dice[i, k] = 2 * sim_common[i, k] / denominator\n",
    "            else:\n",
    "                sim_dice[i, k] = 0  \n",
    "    return sim_dice"
   ]
  },
  {
   "cell_type": "markdown",
   "metadata": {},
   "source": [
    "Matrice de Katz"
   ]
  },
  {
   "cell_type": "code",
   "execution_count": 86,
   "metadata": {},
   "outputs": [],
   "source": [
    "def Katz(graph, alpha):\n",
    "    #Calculer la matrice de Katz\n",
    "    A = graph\n",
    "    n = A.shape[0] # nombre de noeuds\n",
    "    I = np.identity(n) # matrice identité\n",
    "    Katz = np.linalg.inv(I - alpha*A) - I # matrice de Katz, on calcule d'abord l'inverse de I - alpha*A puis on soustrait I\n",
    "    print(f\"Ceci est la matrice de Katz :\\n {Katz}\\n\")\n",
    "    return Katz"
   ]
  },
  {
   "cell_type": "markdown",
   "metadata": {},
   "source": [
    "Probabilité de transition"
   ]
  },
  {
   "cell_type": "code",
   "execution_count": 76,
   "metadata": {},
   "outputs": [],
   "source": [
    "def transition_proba(graph):\n",
    "    A = graph\n",
    "    n = A.shape[0] # nombre de noeuds\n",
    "    degrees = [sum(A[i]) for i in range(n)] # degré de chaque noeud\n",
    "    transition_graph = np.zeros((n,n))\n",
    "    \"\"\"\n",
    "    au début je n'avais pas mis (transition_graph) mais c'est nécessaire sinon on modifie la matrice A pendant\n",
    "    le calcul et on obtient un matrice null\n",
    "    \"\"\"\n",
    "\n",
    "    #Calculer la matrice de transition\n",
    "    for i in range(len(A)):\n",
    "        for k in range(len(A)):\n",
    "            transition_graph[i,k] = A[i,k]/degrees[i]\n",
    "    return transition_graph"
   ]
  },
  {
   "cell_type": "markdown",
   "metadata": {},
   "source": [
    "Matrice FPT et CT"
   ]
  },
  {
   "cell_type": "code",
   "execution_count": 92,
   "metadata": {},
   "outputs": [],
   "source": [
    "def matrice_FPT_et_CT(graph):\n",
    "\t# Calculer la pseudo-inverse de la matrice Laplacienne\n",
    "\tA = graph\n",
    "\tn = A.shape[0]  # nombre de noeuds\n",
    "\tdegrees = [sum(A[i]) for i in range(n)]  # degré de chaque noeud\n",
    "\tD = np.diag(degrees)  # matrice diagonale des degrés\n",
    "\tL = D - A  # matrice Laplacienne\n",
    "\teeT = np.ones((n, n))  # matrice de 1\n",
    "\tLplus = np.linalg.inv((L - eeT / n)) + (eeT / n)\n",
    "\n",
    "\t# Calculer la matrice de FPT\n",
    "\tFPT = np.zeros((n, n))\n",
    "\tfor i in range(len(A)):\n",
    "\t\tfor k in range(len(A)):\n",
    "\t\t\tif i != k:\n",
    "\t\t\t\tsum_term = 0\n",
    "\t\t\t\tfor j in range(len(A)):\n",
    "\t\t\t\t\tsum_term += (Lplus[i, j] - Lplus[i, k] - Lplus[k, j] + Lplus[k, k]) * D[j, j]\n",
    "\t\t\t\tFPT[k, i] = sum_term\n",
    "\tFPT_transpose = np.transpose(FPT)\n",
    "\n",
    "\tCT = FPT_transpose + FPT\n",
    "\n",
    "\treturn FPT_transpose, CT"
   ]
  },
  {
   "cell_type": "markdown",
   "metadata": {},
   "source": [
    "Score Hub"
   ]
  },
  {
   "cell_type": "code",
   "execution_count": 102,
   "metadata": {},
   "outputs": [],
   "source": [
    "def scores_Hub_Authority(graph):\n",
    "    # Calculer les scores HITS\n",
    "    hub_scores, authority_scores = nx.hits(graph)\n",
    "    \n",
    "    # Afficher les résultats\n",
    "    print(f\"Ceci est le score de Hub :\\n {hub_scores}\\n\")\n",
    "    return hub_scores, authority_scores"
   ]
  },
  {
   "cell_type": "markdown",
   "metadata": {},
   "source": [
    "### Applications"
   ]
  },
  {
   "cell_type": "code",
   "execution_count": 97,
   "metadata": {},
   "outputs": [],
   "source": [
    "# Chemin vers le fichier GML\n",
    "gml_file = 'graph.gml'\n",
    "# Créer la matrice d'adjacence\n",
    "adjacency_matrix, nodes = create_numpy_adjacency_matrix(gml_file)\n",
    "\n",
    "# Enregistrer la matrice d'adjacence dans un fichier\n",
    "np.savetxt('outputmatrix/adjacency_matrix.txt', adjacency_matrix)"
   ]
  },
  {
   "cell_type": "code",
   "execution_count": null,
   "metadata": {},
   "outputs": [],
   "source": [
    "cosine_sim = cosine_similarity(adjacency_matrix)\n",
    "print(cosine_sim)\n",
    "\n",
    "# Enregistrer la matrice de similarité cosinus dans un fichier\n",
    "np.savetxt('outputmatrix/cosine_similarity_matrix.txt', cosine_sim)"
   ]
  },
  {
   "cell_type": "code",
   "execution_count": null,
   "metadata": {},
   "outputs": [],
   "source": [
    "dice_sim = dice_similarity(adjacency_matrix)\n",
    "print(dice_sim)\n",
    "\n",
    "# Enregistrer la matrice de similarité Dice dans un fichier\n",
    "np.savetxt('outputmatrix/dice_similarity_matrix.txt', dice_sim)"
   ]
  },
  {
   "cell_type": "code",
   "execution_count": null,
   "metadata": {},
   "outputs": [],
   "source": [
    "jaccard_sim = jaccard_similarity(adjacency_matrix)\n",
    "print(jaccard_sim)\n",
    "\n",
    "# Enregistrer la matrice de similarité Jaccard dans un fichier\n",
    "np.savetxt('outputmatrix/jaccard_similarity_matrix.txt', jaccard_sim)"
   ]
  },
  {
   "cell_type": "code",
   "execution_count": null,
   "metadata": {},
   "outputs": [],
   "source": [
    "# Déterminer la valeur de alpha\n",
    "alpha = 0.1\n",
    "\n",
    "# Calculer la matrice de Katz\n",
    "katz_matrix = Katz(adjacency_matrix, alpha)\n",
    "\n",
    "# Enregistrer la matrice de Katz dans un fichier\n",
    "np.savetxt('outputmatrix/katz_matrix.txt', katz_matrix)"
   ]
  },
  {
   "cell_type": "code",
   "execution_count": null,
   "metadata": {},
   "outputs": [],
   "source": [
    "pref_attach = preferential_attachment(adjacency_matrix)\n",
    "print(pref_attach)\n",
    "\n",
    "# Enregistrer la matrice d'attachement préférentiel dans un fichier\n",
    "np.savetxt('outputmatrix/preferential_attachment_matrix.txt', pref_attach)"
   ]
  },
  {
   "cell_type": "code",
   "execution_count": null,
   "metadata": {},
   "outputs": [],
   "source": [
    "transition_graph = transition_proba(adjacency_matrix)\n",
    "print(transition_graph)\n",
    "\n",
    "# Enregistrer la matrice de probabilité de transition dans un fichier\n",
    "np.savetxt('outputmatrix/transition_probability_matrix.txt', transition_graph)"
   ]
  },
  {
   "cell_type": "code",
   "execution_count": 93,
   "metadata": {},
   "outputs": [],
   "source": [
    "# Calculer et enregistrer les matrices FPT et CT\n",
    "FPT, CT = matrice_FPT_et_CT(transition_graph)\n",
    "np.savetxt('outputmatrix/FPT_matrix.txt', FPT)\n",
    "np.savetxt('outputmatrix/CT_matrix.txt', CT)"
   ]
  },
  {
   "cell_type": "code",
   "execution_count": null,
   "metadata": {},
   "outputs": [],
   "source": [
    "# Calculer les scores de Hub et Authority\n",
    "\n",
    "graph = nx.read_gml('graph.gml')\n",
    "\n",
    "# Calcul des scores\n",
    "hub_scores, authority_scores = scores_Hub_Authority(graph)\n",
    "\n",
    "# Enregistrement des scores\n",
    "np.savetxt('outputmatrix/hub_scores.txt', list(hub_scores.values()))"
   ]
  }
 ],
 "metadata": {
  "kernelspec": {
   "display_name": ".venv",
   "language": "python",
   "name": "python3"
  },
  "language_info": {
   "codemirror_mode": {
    "name": "ipython",
    "version": 3
   },
   "file_extension": ".py",
   "mimetype": "text/x-python",
   "name": "python",
   "nbconvert_exporter": "python",
   "pygments_lexer": "ipython3",
   "version": "3.11.2"
  }
 },
 "nbformat": 4,
 "nbformat_minor": 2
}
